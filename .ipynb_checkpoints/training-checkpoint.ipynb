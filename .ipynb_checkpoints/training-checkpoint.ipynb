{
 "cells": [
  {
   "cell_type": "code",
   "execution_count": 1,
   "id": "3e7036a9",
   "metadata": {},
   "outputs": [
    {
     "name": "stdout",
     "output_type": "stream",
     "text": [
      "importing Jupyter notebook from dset.ipynb\n"
     ]
    }
   ],
   "source": [
    "import import_ipynb\n",
    "import chess\n",
    "import math\n",
    "import random\n",
    "import torch\n",
    "import torch.nn as nn\n",
    "import torch.optim as optim\n",
    "import dset\n",
    "import net\n",
    "import autoencoder\n",
    "import bitboards\n",
    "\n",
    "c_const = 0.5\n",
    "samplingRate = 0.4\n",
    "seed = random.randint(0, 100)\n",
    "mse = nn.MSELoss()\n",
    "\n",
    "def cross_entropy(y_hat, y):\n",
    "    loss = nn.BCELoss()    \n",
    "    y_hat_concat = torch.cat((y_hat[0], y_hat[1]), 1)\n",
    "    \n",
    "    return loss(y_hat_concat, y)\n",
    "\n",
    "def train_mcts(batch, dataset_size, encoder, nnet, optimizer, reinf, game_generator, *args):\n",
    "    dataset = dset.SearchDataset(dataset_size, dset.Encode(encoder), reinf, game_generator, *args)\n",
    "    pick = math.floor(samplingRate*len(dataset))\n",
    "    subset = torch.utils.data.random_split(dataset, [pick, len(dataset) - pick], generator=torch.Generator().manual_seed(seed))\n",
    "    \n",
    "    DataLoader = torch.utils.data.DataLoader(subset[0], batch_size=batch, shuffle=True, drop_last=True)\n",
    "    \n",
    "    noBatch = 0\n",
    "    running_loss, running_mse, running_cross_entropy = 0, 0, 0\n",
    "    for embedding, value, policy in DataLoader:\n",
    "        optimizer.zero_grad()\n",
    "        \n",
    "        value_hat, policy_hat = nnet(embedding.view(embedding.shape[0],1, 256))\n",
    "        mse_value = mse(value_hat, value)\n",
    "        cross_entropy_value = cross_entropy(policy_hat, policy)\n",
    "        loss = c_const * mse_value + (1 - c_const) * cross_entropy_value\n",
    "        \n",
    "        running_loss += loss.item()\n",
    "        running_mse += mse_value.item()\n",
    "        running_cross_entropy += cross_entropy_value.item()\n",
    "        \n",
    "        loss.backward()\n",
    "        optimizer.step()\n",
    "        noBatch += 1\n",
    "    \n",
    "    print(f\"Loss: \\t\", running_loss/noBatch, \"\\n\\t\\t Value loss: \", running_mse/noBatch, \"\\n\\t\\t Policy loss: \", running_cross_entropy/noBatch, end='\\n\\n')\n",
    "\n",
    "        \n",
    "    torch.save(nnet.state_dict(), \"nnet_mcts.pt\")\n",
    "                \n",
    "def train_alpha_beta(batch, dataset_size, encoder, nnet, optimizer, reinf, game_generator, *args):\n",
    "    dataset = dset.SearchDataset(dataset_size, dset.Encode(encoder), reinf, game_generator, *args)\n",
    "    pick = math.floor(samplingRate*len(dataset))\n",
    "    subset = torch.utils.data.random_split(dataset, [pick, len(dataset) - pick], generator=torch.Generator().manual_seed(seed))\n",
    "    \n",
    "    DataLoader = torch.utils.data.DataLoader(subset[0], batch_size=batch, shuffle=True, drop_last=True)\n",
    "    \n",
    "    noBatch = 0\n",
    "    for embedding, value in DataLoader:\n",
    "        optimizer.zero_grad()\n",
    "        value_hat = nnet(embedding.view(embedding.shape[0],1, 256))\n",
    "\n",
    "        mse_value = mse(value_hat, value)\n",
    "        print(f\"Loss ({noBatch}): \", mse_value.item(), end='\\n')\n",
    "\n",
    "        mse_loss.backward()\n",
    "        optimizer.step()\n",
    "        noBatch += 1\n",
    "        \n",
    "    torch.save(nnet.state_dict(), \"nnet_alpha_beta.pt\")"
   ]
  },
  {
   "cell_type": "code",
   "execution_count": 2,
   "id": "4023221e",
   "metadata": {},
   "outputs": [
    {
     "ename": "AttributeError",
     "evalue": "MC",
     "output_type": "error",
     "traceback": [
      "\u001b[0;31m---------------------------------------------------------------------------\u001b[0m",
      "\u001b[0;31mAttributeError\u001b[0m                            Traceback (most recent call last)",
      "\u001b[0;32m<ipython-input-2-c7f31a6d368d>\u001b[0m in \u001b[0;36m<module>\u001b[0;34m\u001b[0m\n\u001b[1;32m      8\u001b[0m \u001b[0;34m\u001b[0m\u001b[0m\n\u001b[1;32m      9\u001b[0m \u001b[0;32mfor\u001b[0m \u001b[0mi\u001b[0m \u001b[0;32min\u001b[0m \u001b[0mrange\u001b[0m\u001b[0;34m(\u001b[0m\u001b[0;36m0\u001b[0m\u001b[0;34m,\u001b[0m \u001b[0;36m100\u001b[0m\u001b[0;34m)\u001b[0m\u001b[0;34m:\u001b[0m\u001b[0;34m\u001b[0m\u001b[0;34m\u001b[0m\u001b[0m\n\u001b[0;32m---> 10\u001b[0;31m     \u001b[0mARGS\u001b[0m \u001b[0;34m=\u001b[0m \u001b[0;34m(\u001b[0m\u001b[0mchess\u001b[0m\u001b[0;34m.\u001b[0m\u001b[0mBoard\u001b[0m\u001b[0;34m(\u001b[0m\u001b[0;34m)\u001b[0m\u001b[0;34m,\u001b[0m \u001b[0mnnet\u001b[0m\u001b[0;34m,\u001b[0m \u001b[0mencoder\u001b[0m\u001b[0;34m,\u001b[0m \u001b[0mdset\u001b[0m\u001b[0;34m.\u001b[0m\u001b[0mSearchType\u001b[0m\u001b[0;34m.\u001b[0m\u001b[0mMC\u001b[0m\u001b[0;34m,\u001b[0m \u001b[0;36m5\u001b[0m\u001b[0;34m)\u001b[0m\u001b[0;34m\u001b[0m\u001b[0;34m\u001b[0m\u001b[0m\n\u001b[0m\u001b[1;32m     11\u001b[0m     \u001b[0mGameGenerator\u001b[0m \u001b[0;34m=\u001b[0m \u001b[0mdset\u001b[0m\u001b[0;34m.\u001b[0m\u001b[0mGameGenerator\u001b[0m\u001b[0;34m(\u001b[0m\u001b[0;36m64\u001b[0m\u001b[0;34m,\u001b[0m \u001b[0;36m0\u001b[0m\u001b[0;34m,\u001b[0m \u001b[0;36m0\u001b[0m\u001b[0;34m)\u001b[0m\u001b[0;34m\u001b[0m\u001b[0;34m\u001b[0m\u001b[0m\n\u001b[1;32m     12\u001b[0m     \u001b[0mtrain_mcts\u001b[0m\u001b[0;34m(\u001b[0m\u001b[0mBATCH\u001b[0m\u001b[0;34m,\u001b[0m \u001b[0mDATASET_SIZE\u001b[0m\u001b[0;34m,\u001b[0m \u001b[0mencoder\u001b[0m\u001b[0;34m,\u001b[0m \u001b[0mnnet\u001b[0m\u001b[0;34m,\u001b[0m \u001b[0moptimizer\u001b[0m\u001b[0;34m,\u001b[0m \u001b[0mdset\u001b[0m\u001b[0;34m.\u001b[0m\u001b[0mReinforcementType\u001b[0m\u001b[0;34m.\u001b[0m\u001b[0mPARAM\u001b[0m\u001b[0;34m,\u001b[0m \u001b[0mGameGenerator\u001b[0m\u001b[0;34m,\u001b[0m \u001b[0;34m*\u001b[0m\u001b[0mARGS\u001b[0m\u001b[0;34m)\u001b[0m\u001b[0;34m\u001b[0m\u001b[0;34m\u001b[0m\u001b[0m\n",
      "\u001b[0;32m/usr/lib/python3.8/enum.py\u001b[0m in \u001b[0;36m__getattr__\u001b[0;34m(cls, name)\u001b[0m\n\u001b[1;32m    382\u001b[0m             \u001b[0;32mreturn\u001b[0m \u001b[0mcls\u001b[0m\u001b[0;34m.\u001b[0m\u001b[0m_member_map_\u001b[0m\u001b[0;34m[\u001b[0m\u001b[0mname\u001b[0m\u001b[0;34m]\u001b[0m\u001b[0;34m\u001b[0m\u001b[0;34m\u001b[0m\u001b[0m\n\u001b[1;32m    383\u001b[0m         \u001b[0;32mexcept\u001b[0m \u001b[0mKeyError\u001b[0m\u001b[0;34m:\u001b[0m\u001b[0;34m\u001b[0m\u001b[0;34m\u001b[0m\u001b[0m\n\u001b[0;32m--> 384\u001b[0;31m             \u001b[0;32mraise\u001b[0m \u001b[0mAttributeError\u001b[0m\u001b[0;34m(\u001b[0m\u001b[0mname\u001b[0m\u001b[0;34m)\u001b[0m \u001b[0;32mfrom\u001b[0m \u001b[0;32mNone\u001b[0m\u001b[0;34m\u001b[0m\u001b[0;34m\u001b[0m\u001b[0m\n\u001b[0m\u001b[1;32m    385\u001b[0m \u001b[0;34m\u001b[0m\u001b[0m\n\u001b[1;32m    386\u001b[0m     \u001b[0;32mdef\u001b[0m \u001b[0m__getitem__\u001b[0m\u001b[0;34m(\u001b[0m\u001b[0mcls\u001b[0m\u001b[0;34m,\u001b[0m \u001b[0mname\u001b[0m\u001b[0;34m)\u001b[0m\u001b[0;34m:\u001b[0m\u001b[0;34m\u001b[0m\u001b[0;34m\u001b[0m\u001b[0m\n",
      "\u001b[0;31mAttributeError\u001b[0m: MC"
     ]
    }
   ],
   "source": [
    "BATCH = 64\n",
    "DATASET_SIZE = 2048\n",
    "\n",
    "encoder = autoencoder.autoencoder().cuda()\n",
    "encoder.load_state_dict(torch.load(\"autoencoderftest2.pt\"))\n",
    "nnet = net.Net().cuda()\n",
    "optimizer = optim.Adam(nnet.parameters(), weight_decay=0.01)\n",
    "    \n",
    "for i in range(0, 100):\n",
    "    ARGS = (chess.Board(), nnet, encoder, dset.SearchType.CUSTOM, 5)\n",
    "    GameGenerator = dset.GameGenerator(128, 0, 0)\n",
    "    train_mcts(BATCH, DATASET_SIZE, encoder, nnet, optimizer, dset.ReinforcementType.MC, GameGenerator, *ARGS)\n",
    "    nnet.load_state_dict(torch.load(\"nnet_mcts.pt\"))"
   ]
  },
  {
   "cell_type": "code",
   "execution_count": null,
   "id": "f85dab0a",
   "metadata": {},
   "outputs": [],
   "source": []
  }
 ],
 "metadata": {
  "kernelspec": {
   "display_name": "Python 3",
   "language": "python",
   "name": "python3"
  },
  "language_info": {
   "codemirror_mode": {
    "name": "ipython",
    "version": 3
   },
   "file_extension": ".py",
   "mimetype": "text/x-python",
   "name": "python",
   "nbconvert_exporter": "python",
   "pygments_lexer": "ipython3",
   "version": "3.8.10"
  }
 },
 "nbformat": 4,
 "nbformat_minor": 5
}
