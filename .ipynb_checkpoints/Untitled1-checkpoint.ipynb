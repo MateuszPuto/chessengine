{
 "cells": [
  {
   "cell_type": "code",
   "execution_count": 4,
   "metadata": {
    "scrolled": true
   },
   "outputs": [
    {
     "name": "stdout",
     "output_type": "stream",
     "text": [
      "r n b q k b n r\n",
      "p p p p p p p p\n",
      ". . . . . . . .\n",
      ". . . . . . . .\n",
      ". . . . . . . .\n",
      ". . . . . . P .\n",
      "P P P P P P . P\n",
      "R N B Q K B N R\n",
      "tensor([[4.2285e-02, 0.0000e+00, 0.0000e+00, 1.0925e-03, 0.0000e+00, 0.0000e+00,\n",
      "         0.0000e+00, 1.1178e-02, 1.0663e-02, 0.0000e+00, 1.6980e-03, 1.7814e-02,\n",
      "         2.1011e-02, 0.0000e+00, 0.0000e+00, 3.7742e-02, 8.5807e-03, 2.6852e-02,\n",
      "         0.0000e+00, 0.0000e+00, 0.0000e+00, 1.5084e-02, 3.8759e-02, 2.0759e-02,\n",
      "         4.0499e-02, 1.2687e-03, 4.5012e-02, 0.0000e+00, 3.3928e-02, 4.3425e-02,\n",
      "         0.0000e+00, 0.0000e+00, 0.0000e+00, 0.0000e+00, 6.5351e-03, 1.7937e-02,\n",
      "         0.0000e+00, 3.8180e-03, 0.0000e+00, 0.0000e+00, 5.4742e-02, 2.6979e-02,\n",
      "         0.0000e+00, 0.0000e+00, 0.0000e+00, 3.0037e-02, 0.0000e+00, 0.0000e+00,\n",
      "         0.0000e+00, 0.0000e+00, 0.0000e+00, 3.1436e-02, 0.0000e+00, 2.9052e-02,\n",
      "         3.1781e-02, 0.0000e+00, 3.2166e-02, 0.0000e+00, 8.1711e-04, 4.0432e-03,\n",
      "         0.0000e+00, 2.6650e-02, 0.0000e+00, 2.8656e-02, 0.0000e+00, 2.6979e-02,\n",
      "         0.0000e+00, 8.0190e-03, 0.0000e+00, 1.5547e-02, 1.2169e-03, 0.0000e+00,\n",
      "         0.0000e+00, 0.0000e+00, 1.2048e-02, 0.0000e+00, 5.0491e-03, 0.0000e+00,\n",
      "         3.3164e-02, 0.0000e+00, 0.0000e+00, 0.0000e+00, 0.0000e+00, 0.0000e+00,\n",
      "         4.8759e-03, 3.5735e-02, 1.1819e-02, 0.0000e+00, 0.0000e+00, 1.0658e-02,\n",
      "         4.5773e-02, 0.0000e+00, 8.8250e-03, 0.0000e+00, 3.1948e-02, 0.0000e+00,\n",
      "         1.0722e-03, 3.4308e-03, 0.0000e+00, 6.1792e-03, 0.0000e+00, 0.0000e+00,\n",
      "         0.0000e+00, 3.7434e-02, 0.0000e+00, 0.0000e+00, 0.0000e+00, 3.6255e-02,\n",
      "         7.2422e-03, 9.3496e-03, 0.0000e+00, 0.0000e+00, 0.0000e+00, 0.0000e+00,\n",
      "         1.8859e-02, 3.4729e-02, 4.2628e-03, 0.0000e+00, 0.0000e+00, 1.4193e-02,\n",
      "         1.6453e-02, 7.9742e-03, 0.0000e+00, 0.0000e+00, 0.0000e+00, 3.8878e-03,\n",
      "         0.0000e+00, 0.0000e+00, 1.8766e-02, 0.0000e+00, 3.0633e-02, 0.0000e+00,\n",
      "         0.0000e+00, 0.0000e+00, 8.5592e-03, 0.0000e+00, 2.6223e-02, 0.0000e+00,\n",
      "         0.0000e+00, 6.3047e-03, 0.0000e+00, 0.0000e+00, 0.0000e+00, 2.2307e-02,\n",
      "         6.8143e-03, 5.2608e-02, 1.5153e-02, 2.6283e-02, 0.0000e+00, 0.0000e+00,\n",
      "         1.2074e-03, 0.0000e+00, 0.0000e+00, 3.0826e-02, 0.0000e+00, 1.4816e-03,\n",
      "         1.8853e-02, 0.0000e+00, 2.2974e-02, 1.6865e-02, 2.6919e-02, 0.0000e+00,\n",
      "         7.7809e-03, 0.0000e+00, 0.0000e+00, 0.0000e+00, 0.0000e+00, 2.5720e-02,\n",
      "         9.3333e-03, 3.2279e-02, 1.3756e-02, 0.0000e+00, 1.6816e-02, 1.5785e-02,\n",
      "         1.4396e-02, 0.0000e+00, 0.0000e+00, 0.0000e+00, 2.0072e-02, 0.0000e+00,\n",
      "         0.0000e+00, 0.0000e+00, 6.8209e-03, 0.0000e+00, 0.0000e+00, 0.0000e+00,\n",
      "         3.2513e-02, 0.0000e+00, 3.9087e-02, 2.1065e-02, 3.3620e-02, 2.1793e-03,\n",
      "         0.0000e+00, 0.0000e+00, 1.0858e-02, 3.2646e-02, 8.0716e-03, 3.8116e-02,\n",
      "         1.6969e-03, 1.9711e-02, 3.6387e-02, 6.8930e-03, 0.0000e+00, 4.0509e-02,\n",
      "         0.0000e+00, 1.8053e-02, 3.7202e-03, 0.0000e+00, 1.3036e-02, 1.0661e-02,\n",
      "         2.9906e-02, 3.5372e-06, 4.2810e-02, 0.0000e+00, 0.0000e+00, 0.0000e+00,\n",
      "         0.0000e+00, 2.6143e-02, 1.5763e-02, 2.1309e-03, 3.1361e-02, 3.6469e-03,\n",
      "         0.0000e+00, 0.0000e+00, 1.1743e-02, 2.8898e-02, 0.0000e+00, 3.8068e-02,\n",
      "         0.0000e+00, 8.6841e-03, 0.0000e+00, 3.0187e-02, 0.0000e+00, 8.8504e-03,\n",
      "         7.5751e-03, 2.8148e-02, 0.0000e+00, 0.0000e+00, 0.0000e+00, 0.0000e+00,\n",
      "         2.3545e-02, 2.8623e-02, 1.6544e-02, 1.7313e-03, 1.3161e-02, 4.3964e-03,\n",
      "         2.2560e-02, 0.0000e+00, 0.0000e+00, 0.0000e+00, 0.0000e+00, 0.0000e+00,\n",
      "         0.0000e+00, 1.9698e-02, 0.0000e+00, 0.0000e+00]], device='cuda:0') torch.Size([1, 16, 8, 8])\n"
     ]
    }
   ],
   "source": [
    "import net\n",
    "import chess\n",
    "import torch\n",
    "import math\n",
    "import helperfuncs\n",
    "import alphabeta\n",
    "import net\n",
    "import mctsAZ\n",
    "import mcts_custom\n",
    "import autoencoder\n",
    "\n",
    "# torch.set_printoptions(threshold=10_000)\n",
    "# testnet = net.Net()\n",
    "# y = testnet(torch.rand(256))\n",
    "# print(y)\n",
    "\n",
    "# board = chess.Board()\n",
    "# helperfuncs.probability_distribution([torch.rand(64), torch.rand(64)], board)\n",
    "\n",
    "# valNet = net.Net().cuda()\n",
    "# board = chess.Board()\n",
    "# encoder = autoencoder.autoencoder().cuda()\n",
    "# startNode = alphabeta.Node(board)\n",
    "# search = alphabeta.alphabeta(startNode, 3, -math.inf, math.inf, valNet, encoder)\n",
    "# print(search.get_node().state)\n",
    "\n",
    "# nnet = net.Net().cuda()\n",
    "# encoder = autoencoder.autoencoder().cuda()\n",
    "# board = chess.Board()\n",
    "# mcts = mctsAZ.Mcts(board, nnet, encoder)\n",
    "# result = mcts.search(50)\n",
    "# print(result.state)\n",
    "\n",
    "nnet = net.Net().cuda()\n",
    "encoder = autoencoder.autoencoder().cuda()\n",
    "board = chess.Board()\n",
    "mcts = mcts_custom.Mcts(board, nnet, encoder)\n",
    "result = mcts.search(500)\n",
    "print(result.state)\n",
    "\n",
    "ins = bitboards.bitboard_to_cnn_input(bitboards.bitboard(board)).unsqueeze(0).cuda()\n",
    "embedding = encoder.encode(ins).view(1, -1)\n",
    "print(embedding, ins.size())"
   ]
  },
  {
   "cell_type": "code",
   "execution_count": 2,
   "metadata": {},
   "outputs": [
    {
     "name": "stdout",
     "output_type": "stream",
     "text": [
      "[25, 20, 24, 26, 24, 28, 25, 29, 23, 22, 22, 38, 31, 26, 20, 28, 23, 21, 24, 21]\n"
     ]
    }
   ],
   "source": [
    "import random\n",
    "m = random.choices([x for x in range(20)], k=500)\n",
    "print([m.count(x) for x in range(20)])"
   ]
  }
 ],
 "metadata": {
  "kernelspec": {
   "display_name": "Python 3",
   "language": "python",
   "name": "python3"
  },
  "language_info": {
   "codemirror_mode": {
    "name": "ipython",
    "version": 3
   },
   "file_extension": ".py",
   "mimetype": "text/x-python",
   "name": "python",
   "nbconvert_exporter": "python",
   "pygments_lexer": "ipython3",
   "version": "3.8.5"
  }
 },
 "nbformat": 4,
 "nbformat_minor": 4
}
