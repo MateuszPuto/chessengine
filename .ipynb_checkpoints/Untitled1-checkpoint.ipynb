{
 "cells": [
  {
   "cell_type": "code",
   "execution_count": 1,
   "metadata": {
    "scrolled": true
   },
   "outputs": [
    {
     "name": "stderr",
     "output_type": "stream",
     "text": [
      "/home/mputo/chessengine/net.py:32: UserWarning: Implicit dimension choice for softmax has been deprecated. Change the call to include dim=X as an argument.\n",
      "  return self.sig(value), [self.softmax(policy[0]), self.softmax(policy[0])]\n"
     ]
    },
    {
     "name": "stdout",
     "output_type": "stream",
     "text": [
      "0.04999921337095686 0.49955099436712946 21\n",
      "0.049998671011719675 0.4994207391035721 27\n",
      "0.05000088799424518 0.4994355498468083 23\n",
      "0.05000002364757641 0.49943683681392453 21\n",
      "0.049999292473409084 0.49963349099528 20\n",
      "0.05000001750535393 0.49969003944779 17\n",
      "0.04999951112436164 0.4994763001483009 25\n",
      "0.05000278376425319 0.49931454574568407 22\n",
      "0.050002526460046055 0.49948728399471004 24\n",
      "0.04999950045199022 0.49948982983106693 28\n",
      "0.050000203646990725 0.49949090253599304 31\n",
      "0.05000049416705741 0.4994559571075923 22\n",
      "0.05000024040685797 0.49956126044105836 21\n",
      "0.05000102305029619 0.49947696214660064 17\n",
      "0.049999592150160234 0.49948894936748606 41\n",
      "0.05000056868481191 0.49945074252378446 22\n",
      "0.050001754347540804 0.49937251181792053 20\n",
      "0.04999949950485292 0.4994870951819864 23\n",
      "0.05000253325372599 0.4995273336869751 28\n",
      "0.04999166298379444 0.49947103075384147 26\n",
      "r n b q k b n r\n",
      "p p p p p p p p\n",
      ". . . . . . . .\n",
      ". . . . . . . .\n",
      ". . . . . P . .\n",
      ". . . . . . . .\n",
      "P P P P P . P P\n",
      "R N B Q K B N R\n"
     ]
    }
   ],
   "source": [
    "import net\n",
    "import chess\n",
    "import torch\n",
    "import math\n",
    "import helperfuncs\n",
    "import alphabeta\n",
    "import net\n",
    "import mctsAZ\n",
    "import mcts_custom\n",
    "import autoencoder\n",
    "\n",
    "# torch.set_printoptions(threshold=10_000)\n",
    "# testnet = net.Net()\n",
    "# y = testnet(torch.rand(256))\n",
    "# print(y)\n",
    "\n",
    "# board = chess.Board()\n",
    "# helperfuncs.probability_distribution([torch.rand(64), torch.rand(64)], board)\n",
    "\n",
    "# valNet = net.Net().cuda()\n",
    "# board = chess.Board()\n",
    "# encoder = autoencoder.autoencoder().cuda()\n",
    "# startNode = alphabeta.Node(board)\n",
    "# search = alphabeta.alphabeta(startNode, 3, -math.inf, math.inf, valNet, encoder)\n",
    "# print(search.get_node().state)\n",
    "\n",
    "# nnet = net.Net().cuda()\n",
    "# encoder = autoencoder.autoencoder().cuda()\n",
    "# board = chess.Board()\n",
    "# mcts = mctsAZ.Mcts(board, nnet, encoder)\n",
    "# result = mcts.search(50)\n",
    "# print(result.state)\n",
    "\n",
    "nnet = net.Net().cuda()\n",
    "encoder = autoencoder.autoencoder().cuda()\n",
    "board = chess.Board()\n",
    "mcts = mcts_custom.Mcts(board, nnet, encoder)\n",
    "result = mcts.search(500)\n",
    "print(result.state)"
   ]
  },
  {
   "cell_type": "code",
   "execution_count": 3,
   "metadata": {},
   "outputs": [
    {
     "name": "stdout",
     "output_type": "stream",
     "text": [
      "[230, 217, 248, 231, 274, 250, 255, 291, 257, 244, 272, 236, 229, 230, 247, 255, 282, 256, 247, 249]\n"
     ]
    }
   ],
   "source": [
    "import random\n",
    "m = random.choices([x for x in range(20)], k=500)\n",
    "print([m.count(x) for x in range(20)])"
   ]
  },
  {
   "cell_type": "code",
   "execution_count": null,
   "metadata": {},
   "outputs": [],
   "source": []
  }
 ],
 "metadata": {
  "kernelspec": {
   "display_name": "Python 3",
   "language": "python",
   "name": "python3"
  },
  "language_info": {
   "codemirror_mode": {
    "name": "ipython",
    "version": 3
   },
   "file_extension": ".py",
   "mimetype": "text/x-python",
   "name": "python",
   "nbconvert_exporter": "python",
   "pygments_lexer": "ipython3",
   "version": "3.8.5"
  }
 },
 "nbformat": 4,
 "nbformat_minor": 4
}
