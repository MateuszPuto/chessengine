{
 "cells": [
  {
   "cell_type": "code",
   "execution_count": 1,
   "metadata": {},
   "outputs": [
    {
     "name": "stdout",
     "output_type": "stream",
     "text": [
      "torch.Size([1, 256, 3, 3])\n"
     ]
    }
   ],
   "source": [
    "import autoencoder\n",
    "import bitboards\n",
    "import chess\n",
    "import torch\n",
    "import torch.nn as nn\n",
    "import gc\n",
    "\n",
    "\n",
    "gc.collect()\n",
    "torch.cuda.empty_cache()\n",
    "\n",
    "board = chess.Board(\"r2qrnk1/ppp2pb1/3p1np1/1P3b2/2PPp2p/2N1P2P/PBQNBPP1/R1R3K1 b - - 0 14\")\n",
    "n_digits = 3\n",
    "loss = nn.BCELoss()\n",
    "encoder = autoencoder.autoencoder().cuda()\n",
    "#encoder =  torch.load('autoencoder.pt').cuda()\n",
    "torch.set_printoptions(threshold=10_000)\n",
    "bb = bitboards.bitboard_to_cnn_input(bitboards.bitboard(board)).unsqueeze(0).cuda()\n",
    "decoded = encoder.encode(bb).cuda()\n",
    "print(decoded.size())\n",
    "# print(loss(decoded, bb))\n",
    "# print((decoded * 10**n_digits).round() / (10**n_digits))"
   ]
  },
  {
   "cell_type": "code",
   "execution_count": null,
   "metadata": {},
   "outputs": [],
   "source": []
  }
 ],
 "metadata": {
  "kernelspec": {
   "display_name": "Python 3",
   "language": "python",
   "name": "python3"
  },
  "language_info": {
   "codemirror_mode": {
    "name": "ipython",
    "version": 3
   },
   "file_extension": ".py",
   "mimetype": "text/x-python",
   "name": "python",
   "nbconvert_exporter": "python",
   "pygments_lexer": "ipython3",
   "version": "3.8.5"
  }
 },
 "nbformat": 4,
 "nbformat_minor": 4
}
