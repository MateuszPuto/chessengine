{
 "cells": [
  {
   "cell_type": "code",
   "execution_count": 1,
   "metadata": {},
   "outputs": [
    {
     "name": "stdout",
     "output_type": "stream",
     "text": [
      "torch.Size([1, 16, 8, 8])\n"
     ]
    }
   ],
   "source": [
    "import autoencoder\n",
    "import bitboards\n",
    "import chess\n",
    "import torch\n",
    "import torch.nn as nn\n",
    "\n",
    "board = chess.Board()\n",
    "n_digits = 3\n",
    "loss = nn.BCELoss()\n",
    "encoder = autoencoder.autoencoder().cuda()\n",
    "encoder =  torch.load('autoencoder11.pt').cuda()\n",
    "torch.set_printoptions(threshold=10_000)\n",
    "bb = bitboards.bitboard_to_cnn_input(bitboards.bitboard(board)).unsqueeze(0).cuda()\n",
    "decoded = encoder.forward(bb).cuda()\n",
    "#print(decoded.size())\n",
    "print(loss(decoded, bb))\n",
    "print((decoded * 10**n_digits).round() / (10**n_digits))"
   ]
  },
  {
   "cell_type": "code",
   "execution_count": null,
   "metadata": {},
   "outputs": [],
   "source": []
  },
  {
   "cell_type": "code",
   "execution_count": null,
   "metadata": {},
   "outputs": [],
   "source": []
  }
 ],
 "metadata": {
  "kernelspec": {
   "display_name": "Python 3",
   "language": "python",
   "name": "python3"
  },
  "language_info": {
   "codemirror_mode": {
    "name": "ipython",
    "version": 3
   },
   "file_extension": ".py",
   "mimetype": "text/x-python",
   "name": "python",
   "nbconvert_exporter": "python",
   "pygments_lexer": "ipython3",
   "version": "3.8.5"
  }
 },
 "nbformat": 4,
 "nbformat_minor": 4
}
