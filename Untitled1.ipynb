{
 "cells": [
  {
   "cell_type": "code",
   "execution_count": 1,
   "metadata": {
    "scrolled": true
   },
   "outputs": [
    {
     "name": "stderr",
     "output_type": "stream",
     "text": [
      "/home/mputo/.local/lib/python3.11/site-packages/torch/nn/modules/linear.py:96: UserWarning: Failed to initialize NumPy: module compiled against API version 0x10 but this version of numpy is 0xf (Triggered internally at ../torch/csrc/utils/tensor_numpy.cpp:77.)\n",
      "  self.weight = Parameter(torch.empty((out_features, in_features), **factory_kwargs))\n"
     ]
    },
    {
     "name": "stdout",
     "output_type": "stream",
     "text": [
      "r n b q k b n r\n",
      "p p p p p p p p\n",
      ". . . . . . . .\n",
      ". . . . . . . .\n",
      ". . . . . . . .\n",
      ". . . P . . . .\n",
      "P P P . P P P P\n",
      "R N B Q K B N R\n"
     ]
    },
    {
     "ename": "NameError",
     "evalue": "name 'bitboards' is not defined",
     "output_type": "error",
     "traceback": [
      "\u001b[0;31m---------------------------------------------------------------------------\u001b[0m",
      "\u001b[0;31mNameError\u001b[0m                                 Traceback (most recent call last)",
      "Cell \u001b[0;32mIn [1], line 41\u001b[0m\n\u001b[1;32m     38\u001b[0m result \u001b[38;5;241m=\u001b[39m mcts\u001b[38;5;241m.\u001b[39msearch(\u001b[38;5;241m50\u001b[39m)\n\u001b[1;32m     39\u001b[0m \u001b[38;5;28mprint\u001b[39m(result\u001b[38;5;241m.\u001b[39mstate)\n\u001b[0;32m---> 41\u001b[0m ins \u001b[38;5;241m=\u001b[39m bitboards\u001b[38;5;241m.\u001b[39mbitboard_to_cnn_input(bitboards\u001b[38;5;241m.\u001b[39mbitboard(board))\u001b[38;5;241m.\u001b[39munsqueeze(\u001b[38;5;241m0\u001b[39m)\u001b[38;5;241m.\u001b[39mcuda()\n\u001b[1;32m     42\u001b[0m embedding \u001b[38;5;241m=\u001b[39m encoder\u001b[38;5;241m.\u001b[39mencode(ins)\u001b[38;5;241m.\u001b[39mview(\u001b[38;5;241m1\u001b[39m, \u001b[38;5;241m-\u001b[39m\u001b[38;5;241m1\u001b[39m)\n\u001b[1;32m     43\u001b[0m \u001b[38;5;28mprint\u001b[39m(embedding, ins\u001b[38;5;241m.\u001b[39msize())\n",
      "\u001b[0;31mNameError\u001b[0m: name 'bitboards' is not defined"
     ]
    }
   ],
   "source": [
    "import net\n",
    "import chess\n",
    "import torch\n",
    "import math\n",
    "import helperfuncs\n",
    "import alphabeta\n",
    "import net\n",
    "import mctsAZ\n",
    "import mcts_custom\n",
    "import autoencoder\n",
    "\n",
    "# torch.set_printoptions(threshold=10_000)\n",
    "# testnet = net.Net()\n",
    "# y = testnet(torch.rand(256))\n",
    "# print(y)\n",
    "\n",
    "# board = chess.Board()\n",
    "# helperfuncs.probability_distribution([torch.rand(64), torch.rand(64)], board)\n",
    "\n",
    "# valNet = net.Net().cuda()\n",
    "# board = chess.Board()\n",
    "# encoder = autoencoder.autoencoder().cuda()\n",
    "# startNode = alphabeta.Node(board)\n",
    "# search = alphabeta.alphabeta(startNode, 3, -math.inf, math.inf, valNet, encoder)\n",
    "# print(search.get_node().state)\n",
    "\n",
    "# nnet = net.Net().cuda()\n",
    "# encoder = autoencoder.autoencoder().cuda()\n",
    "# board = chess.Board()\n",
    "# mcts = mctsAZ.Mcts(board, nnet, encoder)\n",
    "# result = mcts.search(50)\n",
    "# print(result.state)\n",
    "\n",
    "nnet = net.Net().cuda()\n",
    "encoder = autoencoder.autoencoder().cuda()\n",
    "board = chess.Board()\n",
    "mcts = mcts_custom.Mcts(board, nnet, encoder)\n",
    "result = mcts.search(50)\n",
    "print(result.state)\n",
    "\n",
    "ins = bitboards.bitboard_to_cnn_input(bitboards.bitboard(board)).unsqueeze(0).cuda()\n",
    "embedding = encoder.encode(ins).view(1, -1)\n",
    "print(embedding, ins.size())"
   ]
  },
  {
   "cell_type": "code",
   "execution_count": 2,
   "metadata": {},
   "outputs": [
    {
     "name": "stdout",
     "output_type": "stream",
     "text": [
      "[25, 20, 24, 26, 24, 28, 25, 29, 23, 22, 22, 38, 31, 26, 20, 28, 23, 21, 24, 21]\n"
     ]
    }
   ],
   "source": [
    "import random\n",
    "m = random.choices([x for x in range(20)], k=500)\n",
    "print([m.count(x) for x in range(20)])"
   ]
  }
 ],
 "metadata": {
  "kernelspec": {
   "display_name": "Python 3 (ipykernel)",
   "language": "python",
   "name": "python3"
  },
  "language_info": {
   "codemirror_mode": {
    "name": "ipython",
    "version": 3
   },
   "file_extension": ".py",
   "mimetype": "text/x-python",
   "name": "python",
   "nbconvert_exporter": "python",
   "pygments_lexer": "ipython3",
   "version": "3.11.1"
  }
 },
 "nbformat": 4,
 "nbformat_minor": 4
}
