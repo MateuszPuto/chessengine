{
 "cells": [
  {
   "cell_type": "code",
   "execution_count": 1,
   "metadata": {
    "scrolled": true
   },
   "outputs": [
    {
     "name": "stderr",
     "output_type": "stream",
     "text": [
      "/home/mateusz/chessengine/net.py:32: UserWarning: Implicit dimension choice for softmax has been deprecated. Change the call to include dim=X as an argument.\n",
      "  return self.sig(value), [self.softmax(policy[0]), self.softmax(policy[0])]\n"
     ]
    },
    {
     "name": "stdout",
     "output_type": "stream",
     "text": [
      "r n b q k b n r\n",
      "p p p p p p p p\n",
      ". . . . . . . .\n",
      ". . . . . . . .\n",
      ". . . . . . . .\n",
      ". . . . . . P .\n",
      "P P P P P P . P\n",
      "R N B Q K B N R\n"
     ]
    }
   ],
   "source": [
    "import net\n",
    "import chess\n",
    "import torch\n",
    "import math\n",
    "import helperfuncs\n",
    "import alphabeta\n",
    "import net\n",
    "import mctsAZ\n",
    "import autoencoder\n",
    "\n",
    "# torch.set_printoptions(threshold=10_000)\n",
    "# testnet = net.Net()\n",
    "# y = testnet(torch.rand(256))\n",
    "# print(y)\n",
    "\n",
    "# board = chess.Board()\n",
    "# helperfuncs.probability_distribution([torch.rand(64), torch.rand(64)], board)\n",
    "\n",
    "# valNet = net.Net().cuda()\n",
    "# board = chess.Board()\n",
    "# encoder = autoencoder.autoencoder().cuda()\n",
    "# startNode = alphabeta.Node(board)\n",
    "# search = alphabeta.alphabeta(startNode, 3, -math.inf, math.inf, valNet, encoder)\n",
    "# print(search.get_node().state)\n",
    "\n",
    "nnet = net.Net().cuda()\n",
    "encoder = autoencoder.autoencoder().cuda()\n",
    "board = chess.Board()\n",
    "mcts = mctsAZ.Mcts(board, nnet, encoder)\n",
    "result = mcts.search(50)\n",
    "print(result.state)"
   ]
  },
  {
   "cell_type": "code",
   "execution_count": null,
   "metadata": {},
   "outputs": [],
   "source": []
  }
 ],
 "metadata": {
  "kernelspec": {
   "display_name": "Python 3",
   "language": "python",
   "name": "python3"
  },
  "language_info": {
   "codemirror_mode": {
    "name": "ipython",
    "version": 3
   },
   "file_extension": ".py",
   "mimetype": "text/x-python",
   "name": "python",
   "nbconvert_exporter": "python",
   "pygments_lexer": "ipython3",
   "version": "3.8.5"
  }
 },
 "nbformat": 4,
 "nbformat_minor": 4
}
