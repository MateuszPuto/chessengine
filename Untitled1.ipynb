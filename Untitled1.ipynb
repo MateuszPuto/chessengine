{
 "cells": [
  {
   "cell_type": "code",
   "execution_count": 1,
   "metadata": {
    "scrolled": true
   },
   "outputs": [
    {
     "name": "stderr",
     "output_type": "stream",
     "text": [
      "/home/mputo/chessengine/net.py:32: UserWarning: Implicit dimension choice for softmax has been deprecated. Change the call to include dim=X as an argument.\n",
      "  return self.sig(value), [self.softmax(policy[0]), self.softmax(policy[0])]\n"
     ]
    },
    {
     "name": "stdout",
     "output_type": "stream",
     "text": [
      "0.017154003620367873 0.5780300543877701 22\n",
      "0.016672558402393508 0.5018981132709087 40\n",
      "0.01708328279200923 0.49781254478188347 22\n",
      "0.03484394703427814 0.4685616221877053 47\n",
      "0.016421279397529118 0.5756230283750203 22\n",
      "0.022864738717857533 0.5061417989798254 12\n",
      "0.015896509204676567 0.6043483413543884 18\n",
      "0.0183498007349933 0.613903776993161 13\n",
      "0.019706351898462437 0.5247318358697557 16\n",
      "0.11071847812304966 0.5083333244656355 16\n",
      "0.062425012893721155 0.6458500461727631 8\n",
      "0.019301063196708185 0.44456588647574846 19\n",
      "0.015600561403867638 0.5605462449968043 27\n",
      "0.019075128631699 0.5008036809914381 24\n",
      "0.07064444616689775 0.3890722168274449 51\n",
      "0.058846514310081456 0.357771616199529 40\n",
      "0.018093481725197737 0.6019274084677738 16\n",
      "0.04303324760423189 0.5627864234436122 40\n",
      "0.01996654811326837 0.5778693951158355 14\n",
      "0.01835447514144361 0.6154498751885447 12\n",
      "r n b q k b n r\n",
      "p p p p p p p p\n",
      ". . . . . . . .\n",
      ". . . . . . . .\n",
      ". . . . . . . .\n",
      ". P . . . . . .\n",
      "P . P P P P P P\n",
      "R N B Q K B N R\n"
     ]
    }
   ],
   "source": [
    "import net\n",
    "import chess\n",
    "import torch\n",
    "import math\n",
    "import helperfuncs\n",
    "import alphabeta\n",
    "import net\n",
    "import mctsAZ\n",
    "import mcts_custom\n",
    "import autoencoder\n",
    "\n",
    "# torch.set_printoptions(threshold=10_000)\n",
    "# testnet = net.Net()\n",
    "# y = testnet(torch.rand(256))\n",
    "# print(y)\n",
    "\n",
    "# board = chess.Board()\n",
    "# helperfuncs.probability_distribution([torch.rand(64), torch.rand(64)], board)\n",
    "\n",
    "# valNet = net.Net().cuda()\n",
    "# board = chess.Board()\n",
    "# encoder = autoencoder.autoencoder().cuda()\n",
    "# startNode = alphabeta.Node(board)\n",
    "# search = alphabeta.alphabeta(startNode, 3, -math.inf, math.inf, valNet, encoder)\n",
    "# print(search.get_node().state)\n",
    "\n",
    "# nnet = net.Net().cuda()\n",
    "# encoder = autoencoder.autoencoder().cuda()\n",
    "# board = chess.Board()\n",
    "# mcts = mctsAZ.Mcts(board, nnet, encoder)\n",
    "# result = mcts.search(50)\n",
    "# print(result.state)\n",
    "\n",
    "nnet = net.Net().cuda()\n",
    "encoder = autoencoder.autoencoder().cuda()\n",
    "board = chess.Board()\n",
    "mcts = mcts_custom.Mcts(board, nnet, encoder)\n",
    "result = mcts.search(500)\n",
    "print(result.state)"
   ]
  },
  {
   "cell_type": "code",
   "execution_count": null,
   "metadata": {},
   "outputs": [],
   "source": []
  }
 ],
 "metadata": {
  "kernelspec": {
   "display_name": "Python 3",
   "language": "python",
   "name": "python3"
  },
  "language_info": {
   "codemirror_mode": {
    "name": "ipython",
    "version": 3
   },
   "file_extension": ".py",
   "mimetype": "text/x-python",
   "name": "python",
   "nbconvert_exporter": "python",
   "pygments_lexer": "ipython3",
   "version": "3.8.5"
  }
 },
 "nbformat": 4,
 "nbformat_minor": 4
}
