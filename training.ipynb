{
 "cells": [
  {
   "cell_type": "code",
   "execution_count": 4,
   "id": "3e7036a9",
   "metadata": {},
   "outputs": [
    {
     "name": "stdout",
     "output_type": "stream",
     "text": [
      "tensor(0.1299, device='cuda:0', grad_fn=<AddBackward0>) tensor(3.7701e-05, device='cuda:0', grad_fn=<MseLossBackward>) tensor(0.1298, device='cuda:0', grad_fn=<MulBackward0>)\n",
      "tensor(0.1297, device='cuda:0', grad_fn=<AddBackward0>) tensor(9.1268e-06, device='cuda:0', grad_fn=<MseLossBackward>) tensor(0.1297, device='cuda:0', grad_fn=<MulBackward0>)\n",
      "tensor(0.1301, device='cuda:0', grad_fn=<AddBackward0>) tensor(6.9087e-09, device='cuda:0', grad_fn=<MseLossBackward>) tensor(0.1301, device='cuda:0', grad_fn=<MulBackward0>)\n",
      "tensor(0.1296, device='cuda:0', grad_fn=<AddBackward0>) tensor(8.0523e-06, device='cuda:0', grad_fn=<MseLossBackward>) tensor(0.1296, device='cuda:0', grad_fn=<MulBackward0>)\n",
      "tensor(0.1300, device='cuda:0', grad_fn=<AddBackward0>) tensor(2.5393e-05, device='cuda:0', grad_fn=<MseLossBackward>) tensor(0.1299, device='cuda:0', grad_fn=<MulBackward0>)\n",
      "tensor(0.1302, device='cuda:0', grad_fn=<AddBackward0>) tensor(3.4305e-05, device='cuda:0', grad_fn=<MseLossBackward>) tensor(0.1301, device='cuda:0', grad_fn=<MulBackward0>)\n",
      "tensor(0.1302, device='cuda:0', grad_fn=<AddBackward0>) tensor(3.6164e-05, device='cuda:0', grad_fn=<MseLossBackward>) tensor(0.1301, device='cuda:0', grad_fn=<MulBackward0>)\n",
      "tensor(0.1295, device='cuda:0', grad_fn=<AddBackward0>) tensor(2.5740e-05, device='cuda:0', grad_fn=<MseLossBackward>) tensor(0.1294, device='cuda:0', grad_fn=<MulBackward0>)\n",
      "tensor(0.1288, device='cuda:0', grad_fn=<AddBackward0>) tensor(1.3763e-05, device='cuda:0', grad_fn=<MseLossBackward>) tensor(0.1288, device='cuda:0', grad_fn=<MulBackward0>)\n",
      "tensor(0.1294, device='cuda:0', grad_fn=<AddBackward0>) tensor(3.7462e-06, device='cuda:0', grad_fn=<MseLossBackward>) tensor(0.1294, device='cuda:0', grad_fn=<MulBackward0>)\n",
      "tensor(0.1295, device='cuda:0', grad_fn=<AddBackward0>) tensor(1.1539e-07, device='cuda:0', grad_fn=<MseLossBackward>) tensor(0.1295, device='cuda:0', grad_fn=<MulBackward0>)\n"
     ]
    }
   ],
   "source": [
    "import import_ipynb\n",
    "import chess\n",
    "import torch\n",
    "import torch.nn as nn\n",
    "import torch.optim as optim\n",
    "import dset\n",
    "import net\n",
    "import autoencoder\n",
    "import bitboards\n",
    "\n",
    "c_const = 2\n",
    "mse = nn.MSELoss()\n",
    "\n",
    "def cross_entropy(y_hat, y):\n",
    "    y1, y2 = y[0], y[1]\n",
    "    y_hat1 = (torch.clamp(y_hat[0], 1e-9, 1 - 1e-9))\n",
    "    y_hat2 = (torch.clamp(y_hat[1], 1e-9, 1 - 1e-9))\n",
    "    \n",
    "    return -1/2 * ((y1 * torch.log(y_hat1)).sum(dim=1).mean() + (y2 * torch.log(y_hat2)).sum(dim=1).mean())\n",
    "\n",
    "BATCH = 2\n",
    "DATASET_SIZE = 20\n",
    "ARGS = (chess.Board(), net.Net().cuda(), autoencoder.autoencoder().cuda(), dset.SearchType.MCTS, 50)\n",
    "encoder = autoencoder.autoencoder().cuda()\n",
    "nnet = net.Net().cuda()\n",
    "optimizer = optim.Adam(nnet.parameters(), weight_decay=0.01)\n",
    "\n",
    "dataset = dset.SearchDataset(DATASET_SIZE, dset.Encode(encoder), *ARGS)\n",
    "DataLoader = torch.utils.data.DataLoader(dataset, batch_size=BATCH, shuffle=True)\n",
    "\n",
    "for embedding, value, policy in DataLoader:\n",
    "    value_hat, policy_hat = nnet(embedding.view(embedding.shape[0],1, 256))\n",
    "    \n",
    "    mse_value = mse(value_hat, value)\n",
    "    cross_entropy_value = cross_entropy(policy_hat, policy)\n",
    "    loss = c_const * mse_value + cross_entropy_value\n",
    "    print(loss, mse_value, cross_entropy_value)\n",
    "    \n",
    "    loss.backward()\n",
    "    optimizer.step()"
   ]
  },
  {
   "cell_type": "code",
   "execution_count": null,
   "id": "4023221e",
   "metadata": {},
   "outputs": [],
   "source": []
  }
 ],
 "metadata": {
  "kernelspec": {
   "display_name": "Python 3",
   "language": "python",
   "name": "python3"
  },
  "language_info": {
   "codemirror_mode": {
    "name": "ipython",
    "version": 3
   },
   "file_extension": ".py",
   "mimetype": "text/x-python",
   "name": "python",
   "nbconvert_exporter": "python",
   "pygments_lexer": "ipython3",
   "version": "3.8.5"
  }
 },
 "nbformat": 4,
 "nbformat_minor": 5
}
