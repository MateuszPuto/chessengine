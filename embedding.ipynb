{
 "cells": [
  {
   "cell_type": "code",
   "execution_count": 1,
   "metadata": {},
   "outputs": [
    {
     "name": "stdout",
     "output_type": "stream",
     "text": [
      "Test loss:  3.50127676693022\n",
      "Training loss:  3.3617477416992188\n",
      "\n",
      "Test loss:  16.100759756900047\n",
      "Training loss:  16.207481803189676\n",
      "\n",
      "Test loss:  16.920089838780175\n",
      "Training loss:  16.910531716695647\n",
      "\n"
     ]
    },
    {
     "ename": "KeyboardInterrupt",
     "evalue": "",
     "output_type": "error",
     "traceback": [
      "\u001b[0;31m---------------------------------------------------------------------------\u001b[0m",
      "\u001b[0;31mKeyboardInterrupt\u001b[0m                         Traceback (most recent call last)",
      "\u001b[0;32m<ipython-input-1-2685583c7a65>\u001b[0m in \u001b[0;36m<module>\u001b[0;34m\u001b[0m\n\u001b[1;32m     61\u001b[0m     \u001b[0mprint\u001b[0m\u001b[0;34m(\u001b[0m\u001b[0;34m\"Training loss: \"\u001b[0m\u001b[0;34m,\u001b[0m \u001b[0mtraining_loss\u001b[0m \u001b[0;34m/\u001b[0m \u001b[0mlen\u001b[0m\u001b[0;34m(\u001b[0m\u001b[0mdataset\u001b[0m\u001b[0;34m)\u001b[0m\u001b[0;34m,\u001b[0m \u001b[0mend\u001b[0m\u001b[0;34m=\u001b[0m\u001b[0;34m'\\n\\n'\u001b[0m\u001b[0;34m)\u001b[0m\u001b[0;34m\u001b[0m\u001b[0;34m\u001b[0m\u001b[0m\n\u001b[1;32m     62\u001b[0m \u001b[0;34m\u001b[0m\u001b[0m\n\u001b[0;32m---> 63\u001b[0;31m     \u001b[0mdata\u001b[0m \u001b[0;34m=\u001b[0m \u001b[0mreader\u001b[0m\u001b[0;34m.\u001b[0m\u001b[0mget_dataset\u001b[0m\u001b[0;34m(\u001b[0m\u001b[0mdsetSize\u001b[0m\u001b[0;34m)\u001b[0m\u001b[0;34m\u001b[0m\u001b[0;34m\u001b[0m\u001b[0m\n\u001b[0m\u001b[1;32m     64\u001b[0m \u001b[0;34m\u001b[0m\u001b[0m\n\u001b[1;32m     65\u001b[0m     \u001b[0mtorch\u001b[0m\u001b[0;34m.\u001b[0m\u001b[0msave\u001b[0m\u001b[0;34m(\u001b[0m\u001b[0mautoEncoder\u001b[0m\u001b[0;34m,\u001b[0m \u001b[0;34m'autoencoderxallw3.pt'\u001b[0m\u001b[0;34m)\u001b[0m\u001b[0;34m\u001b[0m\u001b[0;34m\u001b[0m\u001b[0m\n",
      "\u001b[0;32m~/chessengine/pgn_reader.py\u001b[0m in \u001b[0;36mget_dataset\u001b[0;34m(size)\u001b[0m\n\u001b[1;32m     30\u001b[0m         \u001b[0;32mfor\u001b[0m \u001b[0mmove\u001b[0m \u001b[0;32min\u001b[0m \u001b[0mmoves\u001b[0m\u001b[0;34m:\u001b[0m\u001b[0;34m\u001b[0m\u001b[0;34m\u001b[0m\u001b[0m\n\u001b[1;32m     31\u001b[0m             \u001b[0mboard\u001b[0m\u001b[0;34m.\u001b[0m\u001b[0mpush\u001b[0m\u001b[0;34m(\u001b[0m\u001b[0mmove\u001b[0m\u001b[0;34m)\u001b[0m\u001b[0;34m\u001b[0m\u001b[0;34m\u001b[0m\u001b[0m\n\u001b[0;32m---> 32\u001b[0;31m             \u001b[0mcnn\u001b[0m \u001b[0;34m=\u001b[0m \u001b[0mbitboards\u001b[0m\u001b[0;34m.\u001b[0m\u001b[0mbitboard_to_cnn_input\u001b[0m\u001b[0;34m(\u001b[0m\u001b[0mbitboards\u001b[0m\u001b[0;34m.\u001b[0m\u001b[0mbitboard\u001b[0m\u001b[0;34m(\u001b[0m\u001b[0mcopy\u001b[0m\u001b[0;34m.\u001b[0m\u001b[0mdeepcopy\u001b[0m\u001b[0;34m(\u001b[0m\u001b[0mboard\u001b[0m\u001b[0;34m)\u001b[0m\u001b[0;34m)\u001b[0m\u001b[0;34m)\u001b[0m\u001b[0;34m\u001b[0m\u001b[0;34m\u001b[0m\u001b[0m\n\u001b[0m\u001b[1;32m     33\u001b[0m             \u001b[0mdataset\u001b[0m\u001b[0;34m.\u001b[0m\u001b[0mappend\u001b[0m\u001b[0;34m(\u001b[0m\u001b[0mcnn\u001b[0m\u001b[0;34m)\u001b[0m\u001b[0;34m\u001b[0m\u001b[0;34m\u001b[0m\u001b[0m\n\u001b[1;32m     34\u001b[0m \u001b[0;34m\u001b[0m\u001b[0m\n",
      "\u001b[0;31mKeyboardInterrupt\u001b[0m: "
     ]
    }
   ],
   "source": [
    "import bitboards\n",
    "import autoencoder\n",
    "import pgn_reader as reader\n",
    "import torch\n",
    "import torch.nn as nn\n",
    "import torch.optim as optim\n",
    "import random\n",
    "import math\n",
    "import gc\n",
    "\n",
    "\n",
    "gc.collect()\n",
    "torch.cuda.empty_cache()\n",
    "\n",
    "dsetSize, batch = 2**14, 2**10\n",
    "#autoEncoder = autoencoder.autoencoder().cuda()\n",
    "autoEncoder =  torch.load('autoencoderxallw2.pt').cuda()\n",
    "criterion = nn.BCELoss(reduction='sum')\n",
    "optimizer = optim.Adam(autoEncoder.parameters())\n",
    "\n",
    "class chessDataset(torch.utils.data.Dataset):\n",
    "    def __init__(self, data_list):\n",
    "        self.data = data_list\n",
    "        \n",
    "    def __getitem__(self, idx):\n",
    "            return self.data[idx]\n",
    "    \n",
    "    def __len__(self):\n",
    "        return len(self.data)\n",
    "\n",
    "\n",
    "data = reader.get_dataset(dsetSize)\n",
    "while data:\n",
    "    random.shuffle(data)\n",
    "    \n",
    "    dataset = chessDataset(data[:math.floor(1/16*len(data))])\n",
    "    testset = chessDataset(data[math.floor(1/16*len(data)):-1])\n",
    "\n",
    "    DataLoader = torch.utils.data.DataLoader(dataset, batch_size = batch, shuffle = True)\n",
    "    TestLoader = torch.utils.data.DataLoader(testset, batch_size = batch, shuffle = True)   \n",
    "    \n",
    "    autoEncoder.eval()\n",
    "    test_loss = 0\n",
    "    for x in TestLoader:\n",
    "        x = x.cuda()\n",
    "        y = autoEncoder(x).cuda()\n",
    "        loss = criterion(y, x)\n",
    "        test_loss += loss.item()\n",
    "    print(\"Test loss: \", test_loss / len(testset))\n",
    "        \n",
    "    autoEncoder.train()\n",
    "    training_loss = 0\n",
    "    for x in DataLoader:\n",
    "        optimizer.zero_grad()\n",
    "        x = x.cuda()\n",
    "        y = autoEncoder(x).cuda()\n",
    "        loss = criterion(y, x)\n",
    "        loss.backward()\n",
    "        optimizer.step()\n",
    "        training_loss += loss.item()\n",
    "    print(\"Training loss: \", training_loss / len(dataset), end='\\n\\n')\n",
    "    \n",
    "    data = reader.get_dataset(dsetSize)\n",
    "    \n",
    "    torch.save(autoEncoder, 'autoencoderxallw3.pt')"
   ]
  },
  {
   "cell_type": "code",
   "execution_count": null,
   "metadata": {},
   "outputs": [],
   "source": []
  }
 ],
 "metadata": {
  "kernelspec": {
   "display_name": "Python 3",
   "language": "python",
   "name": "python3"
  },
  "language_info": {
   "codemirror_mode": {
    "name": "ipython",
    "version": 3
   },
   "file_extension": ".py",
   "mimetype": "text/x-python",
   "name": "python",
   "nbconvert_exporter": "python",
   "pygments_lexer": "ipython3",
   "version": "3.8.5"
  }
 },
 "nbformat": 4,
 "nbformat_minor": 4
}
