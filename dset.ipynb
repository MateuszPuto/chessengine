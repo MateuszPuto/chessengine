{
 "cells": [
  {
   "cell_type": "code",
   "execution_count": 1,
   "id": "b0b7cfff",
   "metadata": {},
   "outputs": [],
   "source": [
    "from enum import Enum\n",
    "import torch\n",
    "from torch.utils.data import Dataset\n",
    "import chess\n",
    "import net\n",
    "import autoencoder\n",
    "import alphabeta\n",
    "import mctsAZ\n",
    "import mcts_custom\n",
    "\n",
    "SearchType = Enum('SearchType', 'MINIMAX MCTS CUSTOM')\n",
    "MAX_MOVES = 10\n",
    "\n",
    "class SearchDataset(Dataset):\n",
    "    def __init__(self, size, *args):\n",
    "        self.data = get_dataset(size, *args)\n",
    "    \n",
    "    def __getitem__(self, idx):\n",
    "        return self.data[idx]\n",
    "    \n",
    "    def __len__(self):\n",
    "        return len(self.data)\n",
    "    \n",
    "def get_dataset(size, *args):\n",
    "    '''Get dataset for NN training no smaller than specified \"size\".\n",
    "    Args are the generate_game function parameters.'''\n",
    "    dataset = []\n",
    "    \n",
    "    while len(dataset) < size:\n",
    "        game = generate_game(*args)\n",
    "        \n",
    "        for nd in game:\n",
    "            if args[3] == SearchType.MINIMAX:\n",
    "                dataset.append((nd.get_node().state, nd.get_val()))\n",
    "                \n",
    "            elif args[3] == SearchType.MCTS:\n",
    "                policy = [child.actionValue for child in nd.childNodes]\n",
    "                dataset.append((nd.state, nd.actionValue, nd.priorProbability, policy))\n",
    "                \n",
    "            elif args[3] == SearchType.CUSTOM:\n",
    "                dataset.append((nd.state, nd.actionValue, nd.priorProbability, nd.choiceProbability))\n",
    "            \n",
    "    return dataset\n",
    "        \n",
    "def generate_game(board, nnet, encoder, search_tree, *args):\n",
    "    '''Generate the chess game given the starting \"board\" position. Args depend on chosen search type. \n",
    "    Three parameters for MINIMAX: depth, lower bound of aspiration window and higher bound.\n",
    "    One parameter for MCTS and CUSTOM: number of rollouts.'''\n",
    "    \n",
    "    game, moves = [], 0\n",
    "    \n",
    "    while not stop_cond(board, moves):\n",
    "        \n",
    "        if search_tree == SearchType.MINIMAX:\n",
    "            node = alphabeta.alphabeta(alphabeta.Node(board), args[0], args[1], args[2], nnet, encoder)\n",
    "            board = node.get_node().state\n",
    "            \n",
    "        elif search_tree == SearchType.MCTS:\n",
    "            tree = mctsAZ.Mcts(board, nnet, encoder)\n",
    "            node = tree.search(args[0])\n",
    "            board = node.state\n",
    "            \n",
    "        elif search_tree == SearchType.CUSTOM:\n",
    "            tree = mcts_custom.Mcts(board, nnet, encoder)\n",
    "            node = tree.search(args[0])\n",
    "            board = node.state\n",
    "            \n",
    "        game.append(node)\n",
    "        moves += 1\n",
    "\n",
    "    return game\n",
    "    \n",
    "\n",
    "def stop_cond(board, moves):\n",
    "    end = False\n",
    "    \n",
    "    if moves > MAX_MOVES:\n",
    "        end = True\n",
    "        \n",
    "    return end"
   ]
  },
  {
   "cell_type": "code",
   "execution_count": 2,
   "id": "1034413e",
   "metadata": {},
   "outputs": [
    {
     "name": "stderr",
     "output_type": "stream",
     "text": [
      "/home/mputo/chessengine/net.py:32: UserWarning: Implicit dimension choice for softmax has been deprecated. Change the call to include dim=X as an argument.\n",
      "  return self.sig(value), [self.softmax(policy[0]), self.softmax(policy[0])]\n"
     ]
    },
    {
     "name": "stdout",
     "output_type": "stream",
     "text": [
      "(Board('rnbqkbnr/pppppppp/8/8/6P1/8/PPPPPP1P/RNBQKBNR b KQkq - 0 1'), 0.4999206890451147, [['g8h6', 0.00023833855121070321], ['g8f6', 0.00023662285485583773], ['b8c6', 0.00024338003865519153], ['b8a6', 0.0002513123600769718], ['h7h6', 0.00024435574927915774], ['g7g6', 0.00023585672873076453], ['f7f6', 0.0002420726895711947], ['e7e6', 0.0002505785216254733], ['d7d6', 0.0002477247685211681], ['c7c6', 0.0002344633408333137], ['b7b6', 0.00024931136844944315], ['a7a6', 0.00024730850771863266], ['h7h5', 0.00024290525986879648], ['g7g5', 0.0002398015287669534], ['f7f5', 0.00024484218517522097], ['e7e5', 0.0002518755132213668], ['d7d5', 0.00024514230600825027], ['c7c5', 0.0002358766034450295], ['b7b5', 0.00025336415656942307], ['a7a5', 0.00024412974182670168]], [0, 0, 0, 0, 0, 0, 0, 0, 0, 0, 0, 0, 0, 0, 0, 0, 0, 0, 0.4999129229121738, 0])\n",
      "(Board('rnbqkbnr/p1pppppp/8/1p6/6P1/8/PPPPPP1P/RNBQKBNR w KQkq - 0 2'), 0.5000792399365851, [['g1h3', 0.00024760148113849717], ['g1f3', 0.00023936411412538508], ['f1h3', 0.00024193738177783267], ['f1g2', 0.0002409342793086751], ['b1c3', 0.00024371087886981488], ['b1a3', 0.0002387383070155992], ['g4g5', 0.00024352060398048075], ['h2h3', 0.0002492881298631934], ['f2f3', 0.0002420558516796848], ['e2e3', 0.0002369931071214658], ['d2d3', 0.00024547781608352803], ['c2c3', 0.00024353520700302195], ['b2b3', 0.00024251887511725356], ['a2a3', 0.000240354799536123], ['h2h4', 0.00024218945352027024], ['f2f4', 0.00024106835705396852], ['e2e4', 0.00024159353698319924], ['d2d4', 0.00023961353429179273], ['c2c4', 0.0002468162162147791], ['b2b4', 0.0002423177033190338], ['a2a4', 0.00025012681289683647]], [0, 0, 0, 0, 0, 0, 0, 0, 0, 0, 0, 0, 0, 0, 0, 0, 0, 0, 0, 0, 0.4998358293719913])\n",
      "(Board('rnbqkbnr/p1pppppp/8/1p6/P5P1/8/1PPPPP1P/RNBQKBNR b KQkq - 0 2'), 0.5000021072725455, [['g8h6', 0.00023833372100485507], ['g8f6', 0.00023662448876001635], ['c8b7', 0.00024361269335239702], ['c8a6', 0.00024510304566802144], ['b8c6', 0.00024337766579958509], ['b8a6', 0.00025131492043750647], ['b5a4', 0.0002544602133393477], ['h7h6', 0.00024435778739812994], ['g7g6', 0.000235861285525555], ['f7f6', 0.000242078974392837], ['e7e6', 0.00025059187696462384], ['d7d6', 0.0002477222693220843], ['c7c6', 0.00023445319135726155], ['a7a6', 0.00024729983731403005], ['b5b4', 0.0002551531581316234], ['h7h5', 0.0002429068151617933], ['g7g5', 0.00023980921929224117], ['f7f5', 0.00024484679218435973], ['e7e5', 0.00025188333592424117], ['d7d5', 0.00024513764773356067], ['c7c5', 0.00023588731656848036], ['a7a5', 0.00024413804478701576]], [0, 0, 0, 0, 0, 0, 0, 0, 0, 0, 0, 0, 0, 0, 0.4998314639796381, 0, 0, 0, 0, 0, 0, 0])\n",
      "(Board('rnbqkbnr/p1pppppp/8/8/Pp4P1/8/1PPPPP1P/RNBQKBNR w KQkq - 0 3'), 0.4999163810242998, [['g1h3', 0.0002475939268981424], ['g1f3', 0.00023937092086796265], ['f1h3', 0.00024193337046079025], ['f1g2', 0.0002409390238539838], ['b1c3', 0.00024371196697819952], ['b1a3', 0.00023873497042581349], ['a1a3', 0.00023822616874535907], ['a1a2', 0.0002487929888774845], ['g4g5', 0.0002435204343140783], ['a4a5', 0.00024650464491262486], ['h2h3', 0.00024927591309453767], ['f2f3', 0.00024206195220492083], ['e2e3', 0.000236992665795379], ['d2d3', 0.0002454785500990344], ['c2c3', 0.00024354546537161403], ['b2b3', 0.0002425146984490062], ['h2h4', 0.00024218375186818575], ['f2f4', 0.00024105805761340596], ['e2e4', 0.00024159845655016138], ['d2d4', 0.00023961223720624612], ['c2c4', 0.00024681752196166473]], [0, 0, 0, 0, 0, 0, 0, 0, 0, 0, 0.4999170939127604, 0, 0, 0, 0, 0, 0, 0, 0, 0, 0])\n",
      "\n"
     ]
    }
   ],
   "source": [
    "import math\n",
    "\n",
    "dataset = get_dataset(20, chess.Board(), net.Net().cuda(), autoencoder.autoencoder().cuda(), SearchType.MCTS, 50)\n",
    "print(\"{}\\n{}\\n{}\\n{}\\n\".format(dataset[0], dataset[1], dataset[2], dataset[3]))"
   ]
  },
  {
   "cell_type": "code",
   "execution_count": null,
   "id": "f4620bc7",
   "metadata": {},
   "outputs": [],
   "source": []
  }
 ],
 "metadata": {
  "kernelspec": {
   "display_name": "Python 3",
   "language": "python",
   "name": "python3"
  },
  "language_info": {
   "codemirror_mode": {
    "name": "ipython",
    "version": 3
   },
   "file_extension": ".py",
   "mimetype": "text/x-python",
   "name": "python",
   "nbconvert_exporter": "python",
   "pygments_lexer": "ipython3",
   "version": "3.8.5"
  }
 },
 "nbformat": 4,
 "nbformat_minor": 5
}
